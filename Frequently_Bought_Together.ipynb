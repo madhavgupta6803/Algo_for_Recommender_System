{
  "nbformat": 4,
  "nbformat_minor": 0,
  "metadata": {
    "colab": {
      "provenance": []
    },
    "kernelspec": {
      "name": "python3",
      "display_name": "Python 3"
    },
    "language_info": {
      "name": "python"
    }
  },
  "cells": [
    {
      "cell_type": "markdown",
      "source": [
        "### Filters the Book_ID's with the same Order_ID as the book which is being searched"
      ],
      "metadata": {
        "id": "di5oDpAY2K4A"
      }
    },
    {
      "cell_type": "code",
      "execution_count": null,
      "metadata": {
        "colab": {
          "base_uri": "https://localhost:8080/"
        },
        "id": "sioxjqRYZMFw",
        "outputId": "77d78fe4-8cad-418d-b28e-a698d326ab0b"
      },
      "outputs": [
        {
          "output_type": "stream",
          "name": "stdout",
          "text": [
            "    Order_ID  Book_ID  User_ID\n",
            "1        103       12       12\n",
            "2        203       14      145\n",
            "5        100       12      234\n",
            "10       100       15     3434\n",
            "14       203       12      188\n",
            "17       100       13      134\n",
            "20       103        8      473\n"
          ]
        }
      ],
      "source": [
        "import pandas as pd\n",
        "\n",
        "# Load the Order table CSV file into a DataFrame\n",
        "df = pd.read_csv('/content/Order Table - Sheet1.csv')\n",
        "\n",
        "# Filter to get Order IDs for Book ID 10 which is corresponding to Alchemist\n",
        "order_ids = df[df['Book_ID'] == 10]['Order_ID'].unique()\n",
        "\n",
        "# Create a new DataFrame with all Book IDs corresponding to these Order IDs, excluding Book ID 10\n",
        "new_df = df[df['Order_ID'].isin(order_ids) & (df['Book_ID'] != 10)]\n",
        "\n",
        "# Display the new DataFrame\n",
        "print(new_df)\n"
      ]
    },
    {
      "cell_type": "markdown",
      "source": [
        "### Count the occurences of these Book_ID's and sorting them in order of their frequenct from high to low"
      ],
      "metadata": {
        "id": "ZhxHTTV92kZS"
      }
    },
    {
      "cell_type": "code",
      "source": [
        "# Count occurrences of each Book ID and sort\n",
        "book_id_counts = new_df.groupby('Book_ID').size().reset_index(name='counts')\n",
        "sorted_book_ids = book_id_counts.sort_values(by='counts', ascending=False)\n",
        "print(sorted_book_ids)\n"
      ],
      "metadata": {
        "colab": {
          "base_uri": "https://localhost:8080/"
        },
        "id": "L3I1eWW7ezFg",
        "outputId": "d204a91c-ef9e-4200-d9f4-def5d0191a3a"
      },
      "execution_count": null,
      "outputs": [
        {
          "output_type": "stream",
          "name": "stdout",
          "text": [
            "   Book_ID  counts\n",
            "1       12       3\n",
            "0        8       1\n",
            "2       13       1\n",
            "3       14       1\n",
            "4       15       1\n"
          ]
        }
      ]
    },
    {
      "cell_type": "markdown",
      "source": [
        "### Getting the details of author_ID and Publisher_ID of the Alchemist book using Book_ID and then filtering books with same publisher or author, then further taking only those book_ids which are in the new_df table"
      ],
      "metadata": {
        "id": "mdby0rd82zur"
      }
    },
    {
      "cell_type": "code",
      "source": [
        "# Load the second CSV file with the Book Details\n",
        "other_df = pd.read_csv('/content/Book Detail - Sheet2 (1).csv')\n",
        "\n",
        "# Find the Author ID and Publisher ID for Book ID 10\n",
        "book_10_info = other_df[other_df['Book_ID'] == 10]\n",
        "author_id_10 = book_10_info['Author_ID'].iloc[0]\n",
        "publisher_id_10 = book_10_info['Publisher_ID'].iloc[0]\n",
        "\n",
        "# Filter new_df to include Book IDs with the same Author ID or Publisher ID as Book ID 10\n",
        "filtered_df = other_df[(other_df['Author_ID'] == author_id_10) | (other_df['Publisher_ID'] == publisher_id_10)]\n",
        "\n",
        "# Now, filter this to only include Book IDs that are in new_df\n",
        "final_df = filtered_df[filtered_df['Book_ID'].isin(new_df['Book_ID'])]\n",
        "# Display the final DataFrame\n",
        "print(final_df)"
      ],
      "metadata": {
        "colab": {
          "base_uri": "https://localhost:8080/"
        },
        "id": "1c6h9wa0fyXO",
        "outputId": "371d91ff-6c23-4482-8c95-a3eb103feab0"
      },
      "execution_count": null,
      "outputs": [
        {
          "output_type": "stream",
          "name": "stdout",
          "text": [
            "    Book_ID  Author_ID  Publisher_ID\n",
            "7         8        134            23\n",
            "11       12        134            23\n",
            "12       13        134            23\n"
          ]
        }
      ]
    },
    {
      "cell_type": "markdown",
      "source": [
        "### Merging the 2 dataframes one with the counts and other with publisher and author id and then finally sorting by counts"
      ],
      "metadata": {
        "id": "e_WoN8iG3xB7"
      }
    },
    {
      "cell_type": "code",
      "source": [
        "merged_df = pd.merge(final_df, sorted_book_ids, on='Book_ID')\n",
        "\n",
        "# Sort the merged DataFrame based on the count values\n",
        "sorted_final_df = merged_df.sort_values(by='counts', ascending=False)\n",
        "\n",
        "# Display the sorted final DataFrame\n",
        "print(sorted_final_df.to_string(index=False))\n"
      ],
      "metadata": {
        "colab": {
          "base_uri": "https://localhost:8080/"
        },
        "id": "UqSBqe800Qx3",
        "outputId": "0c099fd3-2c8a-442c-8e60-87400f7cb2e0"
      },
      "execution_count": null,
      "outputs": [
        {
          "output_type": "stream",
          "name": "stdout",
          "text": [
            " Book_ID  Author_ID  Publisher_ID  counts\n",
            "      12        134            23       3\n",
            "       8        134            23       1\n",
            "      13        134            23       1\n"
          ]
        }
      ]
    }
  ]
}